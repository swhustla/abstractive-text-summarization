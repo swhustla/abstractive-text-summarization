{
 "cells": [
  {
   "cell_type": "code",
   "execution_count": 3,
   "id": "cac0d112-f50c-4041-88b3-b46073072e96",
   "metadata": {},
   "outputs": [],
   "source": [
    "import spacy\n",
    "import pytextrank\n",
    "\n",
    "import warnings\n",
    "warnings.filterwarnings(\"ignore\")\n",
    "\n",
    "# example text\n",
    "text = \"Compatibility of systems of linear constraints over the set of natural numbers. Criteria of compatibility of a system of linear Diophantine equations, strict inequations, and nonstrict inequations are considered. Upper bounds for components of a minimal set of solutions and algorithms of construction of minimal generating sets of solutions for all types of systems are given. These criteria and the corresponding algorithms for constructing a minimal supporting set of solutions can be used in solving all the considered types systems and systems of mixed types.\"\n",
    "\n",
    "# load a spaCy model, depending on language, scale, etc.\n",
    "nlp = spacy.load(\"en_core_web_sm\")\n",
    "\n",
    "# add PyTextRank to the spaCy pipeline\n",
    "nlp.add_pipe(\"textrank\")\n",
    "doc = nlp(text)"
   ]
  },
  {
   "cell_type": "code",
   "execution_count": 4,
   "id": "24c7c1fb-3bc6-4143-ad1e-ffa1ecd1cc07",
   "metadata": {},
   "outputs": [
    {
     "name": "stderr",
     "output_type": "stream",
     "text": [
      "ic| p.rank: 0.17054248030845812, p.count: 1, p.text: 'mixed types'\n",
      "ic| p.chunks: [mixed types]\n",
      "ic| p.rank: 0.15757771579579002\n",
      "    p.count: 1\n",
      "    p.text: 'minimal generating sets'\n",
      "ic| p.chunks: [minimal generating sets]\n",
      "ic| p.rank: 0.1573942320091846, p.count: 3, p.text: 'systems'\n",
      "ic| p.chunks: [systems, systems, systems]\n",
      "ic| p.rank: 0.14894241299658317\n",
      "    p.count: 1\n",
      "    p.text: 'nonstrict inequations'\n",
      "ic| p.chunks: [nonstrict inequations]\n",
      "ic| p.rank: 0.14039169904589088\n",
      "    p.count: 1\n",
      "    p.text: 'strict inequations'\n",
      "ic| p.chunks: [strict inequations]\n",
      "ic| p.rank: 0.11698198658021898, p.count: 1, p.text: 'natural numbers'\n",
      "ic| p.chunks: [natural numbers]\n",
      "ic| p.rank: 0.11559770516796158\n",
      "    p.count: 1\n",
      "    p.text: 'linear Diophantine equations'\n",
      "ic| p.chunks: [linear Diophantine equations]\n",
      "ic| p.rank: 0.11407086615794945, p.count: 3, p.text: 'solutions'\n",
      "ic| p.chunks: [solutions, solutions, solutions]\n",
      "ic| p.rank: 0.10165710454752863\n",
      "    p.count: 1\n",
      "    p.text: 'linear constraints'\n",
      "ic| p.chunks: [linear constraints]\n",
      "ic| p.rank: 0.09237587396226833\n",
      "    p.count: 1\n",
      "    p.text: 'a minimal supporting set'\n",
      "ic| p.chunks: [a minimal supporting set]\n",
      "ic| p.rank: 0.08845296671843554\n",
      "    p.count: 1\n",
      "    p.text: 'all the considered types systems'\n",
      "ic| p.chunks: [all the considered types systems]\n",
      "ic| p.rank: 0.08294839224739124, p.count: 1, p.text: 'a minimal set'\n",
      "ic| p.chunks: [a minimal set]\n",
      "ic| p.rank: 0.08107274369298882, p.count: 1, p.text: 'algorithms'\n",
      "ic| p.chunks: [algorithms]\n",
      "ic| p.rank: 0.07429406639612553, p.count: 1, p.text: 'construction'\n",
      "ic| p.chunks: [construction]\n",
      "ic| p.rank: 0.07269728177551771, p.count: 1, p.text: 'a system'\n",
      "ic| p.chunks: [a system]\n",
      "ic| p.rank: 0.07130948853545689, p.count: 1, p.text: 'Diophantine'\n",
      "ic| p.chunks: [Diophantine]\n",
      "ic| p.rank: 0.07034880604533804, p.count: 1, p.text: 'all types'\n",
      "ic| p.chunks: [all types]\n",
      "ic| p.rank: 0.06480303503167001, p.count: 1, p.text: 'Upper bounds'\n",
      "ic| p.chunks: [Upper bounds]\n",
      "ic| p.rank: 0.05969087234318076, p.count: 1, p.text: 'the set'\n",
      "ic| p.chunks: [the set]\n",
      "ic| p.rank: 0.05837512270115124, p.count: 1, p.text: 'components'\n",
      "ic| p.chunks: [components]\n",
      "ic| p.rank: 0.048602276273752514, p.count: 1, p.text: 'Compatibility'\n",
      "ic| p.chunks: [Compatibility]\n",
      "ic| p.rank: 0.048602276273752514, p.count: 1, p.text: 'compatibility'\n",
      "ic| p.chunks: [compatibility]\n",
      "ic| p.rank: 0.0472624878442175\n",
      "    p.count: 1\n",
      "    p.text: 'the corresponding algorithms'\n",
      "ic| p.chunks: [the corresponding algorithms]\n",
      "ic| p.rank: 0.04548690742119631, p.count: 1, p.text: 'Criteria'\n",
      "ic| p.chunks: [Criteria]\n",
      "ic| p.rank: 0.021009502595385022, p.count: 1, p.text: 'These criteria'\n",
      "ic| p.chunks: [These criteria]\n"
     ]
    }
   ],
   "source": [
    "from icecream import ic\n",
    "\n",
    "for p in doc._.phrases:\n",
    "    ic(p.rank, p.count, p.text)\n",
    "    ic(p.chunks)"
   ]
  },
  {
   "cell_type": "code",
   "execution_count": 5,
   "id": "bc201a11-3da1-420a-9fd6-4b8371a74872",
   "metadata": {},
   "outputs": [
    {
     "data": {
      "text/plain": [
       "[[0, 13, set()], [13, 33, set()], [33, 61, set()], [61, 91, set()]]"
      ]
     },
     "execution_count": 5,
     "metadata": {},
     "output_type": "execute_result"
    }
   ],
   "source": [
    "sent_bounds = [ [s.start, s.end, set([])] for s in doc.sents ]\n",
    "sent_bounds"
   ]
  },
  {
   "cell_type": "code",
   "execution_count": 6,
   "id": "b6d9b25a-861f-4374-8ee8-121236f27595",
   "metadata": {},
   "outputs": [
    {
     "name": "stderr",
     "output_type": "stream",
     "text": [
      "ic| phrase_id: 0, p.text: 'mixed types', p.rank: 0.17054248030845812\n",
      "ic| chunk.start: 88, chunk.end: 90\n",
      "ic| sent_start: 61, chunk.start: 88, chunk.end: 90, sent_end: 91\n",
      "ic| phrase_id: 1\n",
      "    p.text: 'minimal generating sets'\n",
      "    p.rank: 0.15757771579579002\n",
      "ic| chunk.start: 48, chunk.end: 51\n",
      "ic| sent_start: 33, chunk.start: 48, chunk.end: 51, sent_end: 61\n",
      "ic| phrase_id: 2, p.text: 'systems', p.rank: 0.1573942320091846\n",
      "ic| chunk.start: 2, chunk.end: 3\n",
      "ic| sent_start: 0, chunk.start: 2, chunk.end: 3, sent_end: 13\n",
      "ic| chunk.start: 57, chunk.end: 58\n",
      "ic| sent_start: 33, chunk.start: 57, chunk.end: 58, sent_end: 61\n",
      "ic| chunk.start: 86, chunk.end: 87\n",
      "ic| sent_start: 61, chunk.start: 86, chunk.end: 87, sent_end: 91\n",
      "ic| phrase_id: 3\n",
      "    p.text: 'nonstrict inequations'\n",
      "    p.rank: 0.14894241299658317\n",
      "ic| chunk.start: 28, chunk.end: 30\n",
      "ic| sent_start: 13, chunk.start: 28, chunk.end: 30, sent_end: 33\n"
     ]
    }
   ],
   "source": [
    "limit_phrases = 4\n",
    "\n",
    "phrase_id = 0\n",
    "unit_vector = []\n",
    "\n",
    "for p in doc._.phrases:\n",
    "    ic(phrase_id, p.text, p.rank)\n",
    "    \n",
    "    unit_vector.append(p.rank)\n",
    "    \n",
    "    for chunk in p.chunks:\n",
    "        ic(chunk.start, chunk.end)\n",
    "        \n",
    "        for sent_start, sent_end, sent_vector in sent_bounds:\n",
    "            if chunk.start >= sent_start and chunk.end <= sent_end:\n",
    "                ic(sent_start, chunk.start, chunk.end, sent_end)\n",
    "                sent_vector.add(phrase_id)\n",
    "                break\n",
    "\n",
    "    phrase_id += 1\n",
    "\n",
    "    if phrase_id == limit_phrases:\n",
    "        break"
   ]
  },
  {
   "cell_type": "code",
   "execution_count": 7,
   "id": "ae07bc70-b3a8-452b-ae75-bd292f06f4de",
   "metadata": {},
   "outputs": [
    {
     "data": {
      "text/plain": [
       "[[0, 13, {2}], [13, 33, {3}], [33, 61, {1, 2}], [61, 91, {0, 2}]]"
      ]
     },
     "execution_count": 7,
     "metadata": {},
     "output_type": "execute_result"
    }
   ],
   "source": [
    "sent_bounds"
   ]
  },
  {
   "cell_type": "code",
   "execution_count": 8,
   "id": "838eda09-9513-421b-9aa2-7175956cf683",
   "metadata": {},
   "outputs": [
    {
     "name": "stderr",
     "output_type": "stream",
     "text": [
      "ic| sent: Compatibility of systems of linear constraints over the set of natural numbers.\n",
      "ic| sent: Criteria of compatibility of a system of linear Diophantine equations, strict inequations, and nonstrict inequations are considered.\n",
      "ic| sent: Upper bounds for components of a minimal set of solutions and algorithms of construction of minimal generating sets of solutions for all types of systems are given.\n",
      "ic| sent: These criteria and the corresponding algorithms for constructing a minimal supporting set of solutions can be used in solving all the considered types systems and systems of mixed types.\n"
     ]
    }
   ],
   "source": [
    "for sent in doc.sents:\n",
    "    ic(sent)"
   ]
  },
  {
   "cell_type": "code",
   "execution_count": 9,
   "id": "53e9c011-045f-4037-972d-b201d33f5616",
   "metadata": {},
   "outputs": [
    {
     "data": {
      "text/plain": [
       "[0.17054248030845812,\n",
       " 0.15757771579579002,\n",
       " 0.1573942320091846,\n",
       " 0.14894241299658317]"
      ]
     },
     "execution_count": 9,
     "metadata": {},
     "output_type": "execute_result"
    }
   ],
   "source": [
    "unit_vector"
   ]
  },
  {
   "cell_type": "code",
   "execution_count": 10,
   "id": "9e2c7dc9-4142-48fe-a65e-65d55f22f122",
   "metadata": {},
   "outputs": [
    {
     "data": {
      "text/plain": [
       "[0.2688007587877609,\n",
       " 0.248366327834214,\n",
       " 0.24807712961817077,\n",
       " 0.23475578375985437]"
      ]
     },
     "execution_count": 10,
     "metadata": {},
     "output_type": "execute_result"
    }
   ],
   "source": [
    "sum_ranks = sum(unit_vector)\n",
    "\n",
    "unit_vector = [ rank/sum_ranks for rank in unit_vector ]\n",
    "unit_vector"
   ]
  },
  {
   "cell_type": "code",
   "execution_count": 11,
   "id": "f9ee1f73-df2c-4fa8-9aef-06411764ee48",
   "metadata": {},
   "outputs": [
    {
     "name": "stderr",
     "output_type": "stream",
     "text": [
      "ic| sent_vector: {2}\n",
      "ic| phrase_id: 0, unit_vector[phrase_id]: 0.2688007587877609\n",
      "ic| phrase_id: 1, unit_vector[phrase_id]: 0.248366327834214\n",
      "ic| phrase_id: 2, unit_vector[phrase_id]: 0.24807712961817077\n",
      "ic| phrase_id: 3, unit_vector[phrase_id]: 0.23475578375985437\n",
      "ic| sent_vector: {3}\n",
      "ic| phrase_id: 0, unit_vector[phrase_id]: 0.2688007587877609\n",
      "ic| phrase_id: 1, unit_vector[phrase_id]: 0.248366327834214\n",
      "ic| phrase_id: 2, unit_vector[phrase_id]: 0.24807712961817077\n",
      "ic| phrase_id: 3, unit_vector[phrase_id]: 0.23475578375985437\n",
      "ic| sent_vector: {1, 2}\n",
      "ic| phrase_id: 0, unit_vector[phrase_id]: 0.2688007587877609\n",
      "ic| phrase_id: 1, unit_vector[phrase_id]: 0.248366327834214\n",
      "ic| phrase_id: 2, unit_vector[phrase_id]: 0.24807712961817077\n",
      "ic| phrase_id: 3, unit_vector[phrase_id]: 0.23475578375985437\n",
      "ic| sent_vector: {0, 2}\n",
      "ic| phrase_id: 0, unit_vector[phrase_id]: 0.2688007587877609\n",
      "ic| phrase_id: 1, unit_vector[phrase_id]: 0.248366327834214\n",
      "ic| phrase_id: 2, unit_vector[phrase_id]: 0.24807712961817077\n",
      "ic| phrase_id: 3, unit_vector[phrase_id]: 0.23475578375985437\n"
     ]
    }
   ],
   "source": [
    "from math import sqrt\n",
    "\n",
    "sent_rank = {}\n",
    "sent_id = 0\n",
    "\n",
    "for sent_start, sent_end, sent_vector in sent_bounds:\n",
    "    ic(sent_vector)\n",
    "    sum_sq = 0.0\n",
    "    ic\n",
    "    for phrase_id in range(len(unit_vector)):\n",
    "        ic(phrase_id, unit_vector[phrase_id])\n",
    "        \n",
    "        if phrase_id not in sent_vector:\n",
    "            sum_sq += unit_vector[phrase_id]**2.0\n",
    "\n",
    "    sent_rank[sent_id] = sqrt(sum_sq)\n",
    "    sent_id += 1"
   ]
  },
  {
   "cell_type": "code",
   "execution_count": 12,
   "id": "fbabb984-0043-4a49-b774-cbbdac1bb2da",
   "metadata": {},
   "outputs": [
    {
     "name": "stderr",
     "output_type": "stream",
     "text": [
      "ic| sent_rank: {0: 0.4347987565937048,\n",
      "                1: 0.4421333995145797,\n",
      "                2: 0.3568811089614853,\n",
      "                3: 0.3417544598254071}\n"
     ]
    },
    {
     "data": {
      "text/plain": [
       "{0: 0.4347987565937048,\n",
       " 1: 0.4421333995145797,\n",
       " 2: 0.3568811089614853,\n",
       " 3: 0.3417544598254071}"
      ]
     },
     "execution_count": 12,
     "metadata": {},
     "output_type": "execute_result"
    }
   ],
   "source": [
    "ic(sent_rank)"
   ]
  },
  {
   "cell_type": "code",
   "execution_count": 13,
   "id": "36c3aa30-b23f-4e78-8889-3d80121fc944",
   "metadata": {},
   "outputs": [
    {
     "data": {
      "text/plain": [
       "[(3, 0.3417544598254071),\n",
       " (2, 0.3568811089614853),\n",
       " (0, 0.4347987565937048),\n",
       " (1, 0.4421333995145797)]"
      ]
     },
     "execution_count": 13,
     "metadata": {},
     "output_type": "execute_result"
    }
   ],
   "source": [
    "from operator import itemgetter\n",
    "\n",
    "sorted(sent_rank.items(), key=itemgetter(1)) "
   ]
  },
  {
   "cell_type": "code",
   "execution_count": 14,
   "id": "28bb76bd-07c2-49b8-b063-5554bb41f461",
   "metadata": {},
   "outputs": [
    {
     "name": "stderr",
     "output_type": "stream",
     "text": [
      "ic| sent_id: 3\n",
      "    sent_text[sent_id]: ('These criteria and the corresponding algorithms for constructing a minimal '\n",
      "                         'supporting set of solutions can be used in solving all the considered types '\n",
      "                         'systems and systems of mixed types.')\n",
      "ic| sent_id: 2\n",
      "    sent_text[sent_id]: ('Upper bounds for components of a minimal set of solutions and algorithms of '\n",
      "                         'construction of minimal generating sets of solutions for all types of '\n",
      "                         'systems are given.')\n"
     ]
    }
   ],
   "source": [
    "limit_sentences = 2\n",
    "\n",
    "sent_text = {}\n",
    "sent_id = 0\n",
    "\n",
    "for sent in doc.sents:\n",
    "    sent_text[sent_id] = sent.text\n",
    "    sent_id += 1\n",
    "\n",
    "num_sent = 0\n",
    "\n",
    "for sent_id, rank in sorted(sent_rank.items(), key=itemgetter(1)):\n",
    "    ic(sent_id, sent_text[sent_id])\n",
    "    num_sent += 1\n",
    "    \n",
    "    if num_sent == limit_sentences:\n",
    "        break"
   ]
  },
  {
   "cell_type": "code",
   "execution_count": null,
   "id": "50116e6e-ad09-4143-a5b4-28b95bc470e9",
   "metadata": {},
   "outputs": [],
   "source": []
  }
 ],
 "metadata": {
  "kernelspec": {
   "display_name": "Python 3 (ipykernel)",
   "language": "python",
   "name": "python3"
  },
  "language_info": {
   "codemirror_mode": {
    "name": "ipython",
    "version": 3
   },
   "file_extension": ".py",
   "mimetype": "text/x-python",
   "name": "python",
   "nbconvert_exporter": "python",
   "pygments_lexer": "ipython3",
   "version": "3.9.10"
  }
 },
 "nbformat": 4,
 "nbformat_minor": 5
}
