{
 "cells": [
  {
   "cell_type": "markdown",
   "id": "e0296497-52df-4c7e-94a2-fd856c3f1f40",
   "metadata": {},
   "source": [
    "# Extractive text summarisation - test framework"
   ]
  },
  {
   "cell_type": "markdown",
   "id": "88796fcd-0549-49c9-b319-2bdb96c535bb",
   "metadata": {},
   "source": [
    "First let's import all relevant modules"
   ]
  },
  {
   "cell_type": "code",
   "execution_count": null,
   "id": "649a25ef-07c9-4692-93bb-7ac10a784b17",
   "metadata": {},
   "outputs": [],
   "source": []
  }
 ],
 "metadata": {
  "kernelspec": {
   "display_name": "Python 3 (ipykernel)",
   "language": "python",
   "name": "python3"
  },
  "language_info": {
   "codemirror_mode": {
    "name": "ipython",
    "version": 3
   },
   "file_extension": ".py",
   "mimetype": "text/x-python",
   "name": "python",
   "nbconvert_exporter": "python",
   "pygments_lexer": "ipython3",
   "version": "3.9.9"
  }
 },
 "nbformat": 4,
 "nbformat_minor": 5
}
