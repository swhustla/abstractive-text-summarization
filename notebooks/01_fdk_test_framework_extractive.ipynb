{
 "cells": [
  {
   "cell_type": "markdown",
   "id": "e0296497-52df-4c7e-94a2-fd856c3f1f40",
   "metadata": {},
   "source": [
    "# Extractive text summarisation - test framework"
   ]
  },
  {
   "cell_type": "markdown",
   "id": "88796fcd-0549-49c9-b319-2bdb96c535bb",
   "metadata": {},
   "source": [
    "First let's import all relevant modules"
   ]
  },
  {
   "cell_type": "code",
   "execution_count": 1,
   "id": "649a25ef-07c9-4692-93bb-7ac10a784b17",
   "metadata": {},
   "outputs": [],
   "source": [
    "import sys\n",
    "sys.path.append(\"/Users/frankkelly/Dropbox/Projects-new/sahaj_text_summarisation_clean/gradio-screen/\")\n",
    "\n",
    "import os\n",
    "from pathlib import Path\n",
    "import pandas as pd\n",
    "import swifter"
   ]
  },
  {
   "cell_type": "code",
   "execution_count": 2,
   "id": "f00dc782",
   "metadata": {},
   "outputs": [
    {
     "data": {
      "text/plain": [
       "PosixPath('/Users/frankkelly/Dropbox/Projects-new/sahaj_text_summarisation_clean')"
      ]
     },
     "execution_count": 2,
     "metadata": {},
     "output_type": "execute_result"
    }
   ],
   "source": [
    "\n",
    "PROJECT_PATH = Path(\"./\").absolute().parent\n",
    "PROJECT_PATH"
   ]
  },
  {
   "cell_type": "code",
   "execution_count": 3,
   "id": "09f15ec2",
   "metadata": {},
   "outputs": [],
   "source": [
    "# %load_ext autoreload\n",
    "# %autoreload 2\n",
    "# %load_ext lab_black"
   ]
  },
  {
   "cell_type": "code",
   "execution_count": 4,
   "id": "98b3739d",
   "metadata": {},
   "outputs": [
    {
     "name": "stdout",
     "output_type": "stream",
     "text": [
      "pariza bbc-news-summary\n"
     ]
    }
   ],
   "source": [
    "iskaggle = os.environ.get(\"KAGGLE_KERNEL_RUN_TYPE\", \"\")\n",
    "if iskaggle:\n",
    "    path = Path(\"../pariza/bbc-news-summary\")\n",
    "else:\n",
    "    full_path = Path(\"pariza/bbc-news-summary\")\n",
    "    owner_slug = str(full_path).split(\"/\")[0]\n",
    "    dataset_slug = str(full_path).split(\"/\")[1]\n",
    "    print(owner_slug, dataset_slug)\n",
    "    path = Path(\"../\"+ dataset_slug)\n",
    "    if not path.exists():\n",
    "        import zipfile, kaggle\n",
    "\n",
    "        kaggle.api.datasets_download(owner_slug=owner_slug, dataset_slug=dataset_slug)"
   ]
  },
  {
   "cell_type": "code",
   "execution_count": 5,
   "id": "54a6ff45",
   "metadata": {},
   "outputs": [],
   "source": [
    "\n",
    "from rouge import Rouge \n",
    "\n",
    "hypothesis = \"the #### transcript is a written version of each day 's cnn student news program use this transcript to he    lp students with reading comprehension and vocabulary use the weekly newsquiz to test your knowledge of storie s you     saw on cnn student news\"\n",
    "\n",
    "reference = \"this page includes the show transcript use the transcript to help students with reading comprehension and     vocabulary at the bottom of the page , comment for a chance to be mentioned on cnn student news . you must be a teac    her or a student age # # or older to request a mention on the cnn student news roll call . the weekly newsquiz tests     students ' knowledge of even ts in the news\"\n",
    "\n",
    "rouge = Rouge()\n",
    "scores = rouge.get_scores(hypothesis, reference)"
   ]
  },
  {
   "cell_type": "code",
   "execution_count": 6,
   "id": "ac2beb33",
   "metadata": {},
   "outputs": [
    {
     "data": {
      "text/plain": [
       "[{'rouge-1': {'r': 0.42857142857142855,\n",
       "   'p': 0.5833333333333334,\n",
       "   'f': 0.49411764217577864},\n",
       "  'rouge-2': {'r': 0.18571428571428572,\n",
       "   'p': 0.3170731707317073,\n",
       "   'f': 0.23423422957552154},\n",
       "  'rouge-l': {'r': 0.3877551020408163,\n",
       "   'p': 0.5277777777777778,\n",
       "   'f': 0.44705881864636676}}]"
      ]
     },
     "execution_count": 6,
     "metadata": {},
     "output_type": "execute_result"
    }
   ],
   "source": [
    "scores"
   ]
  },
  {
   "cell_type": "code",
   "execution_count": 7,
   "id": "3a2ba7ad",
   "metadata": {},
   "outputs": [
    {
     "data": {
      "text/plain": [
       "PosixPath('/Users/frankkelly/Dropbox/Projects-new/sahaj_text_summarisation_clean/bbc-news-summary/BBC News Summary')"
      ]
     },
     "execution_count": 7,
     "metadata": {},
     "output_type": "execute_result"
    }
   ],
   "source": [
    "# Load in the BBC news summaries - from datasets/bbc-news-summary/\n",
    "data_path = Path(PROJECT_PATH, \"bbc-news-summary/BBC News Summary\")\n",
    "\n",
    "data_path\n"
   ]
  },
  {
   "cell_type": "code",
   "execution_count": 8,
   "id": "0874c97e",
   "metadata": {},
   "outputs": [],
   "source": [
    "from dataclasses import dataclass, field\n",
    "from typing import List\n",
    "\n",
    "@dataclass()\n",
    "class BBCNewsDataReader:\n",
    "    base_folder: str\n",
    "    exclusion: list = field(default_factory=list)\n",
    "    \n",
    "    @property\n",
    "    def news_articles_folder(self):\n",
    "        return self.base_folder / 'News Articles'\n",
    "    \n",
    "    @property\n",
    "    def summaries_folder(self):\n",
    "        return self.base_folder / 'Summaries'\n",
    "    \n",
    "    @property\n",
    "    def categories(self):\n",
    "        exclusion_folders = lambda x: x not in [\".DS_Store\"] + self.exclusion\n",
    "        return filter(exclusion_folders, os.listdir(self.news_articles_folder))\n",
    "    \n",
    "    def to_df(self):\n",
    "        df = pd.DataFrame(columns=['article', 'summary', 'category', 'filename'])\n",
    "        for article_folder, summary_folder in self.__category_folders():\n",
    "            category = article_folder.split('/')[-1]\n",
    "            for filename in os.listdir(article_folder):\n",
    "                if os.path.isfile(f'{article_folder}/{filename}'):\n",
    "                    try:\n",
    "                        article = self.__read_file(f'{article_folder}/{filename}')\n",
    "                        summary = self.__read_file(f'{summary_folder}/{filename}')\n",
    "                        # TODO: replace append with concat\n",
    "                        df = df.append({'article': article, 'summary': summary, 'category': category, 'filename': filename}, ignore_index=True)\n",
    "                    except UnicodeDecodeError:\n",
    "                        pass\n",
    "        return df\n",
    "                \n",
    "            \n",
    "    def __category_folders(self):\n",
    "        return [\n",
    "            (f'{self.news_articles_folder}/{category}', f'{self.summaries_folder}/{category}') for category in self.categories\n",
    "        ]\n",
    "    \n",
    "    \n",
    "    def __read_file(self, filepath):\n",
    "        with open(filepath) as file:\n",
    "            return file.read()"
   ]
  },
  {
   "cell_type": "code",
   "execution_count": 9,
   "id": "0a96a16d",
   "metadata": {},
   "outputs": [],
   "source": [
    "data = BBCNewsDataReader(\n",
    "        base_folder=data_path,\n",
    "        # exclusion=['entertainment', 'tech', 'sport', 'politics'] # remove these to read all data\n",
    "    ).to_df()"
   ]
  },
  {
   "cell_type": "code",
   "execution_count": 10,
   "id": "dd5995e1",
   "metadata": {},
   "outputs": [
    {
     "data": {
      "text/html": [
       "<div>\n",
       "<style scoped>\n",
       "    .dataframe tbody tr th:only-of-type {\n",
       "        vertical-align: middle;\n",
       "    }\n",
       "\n",
       "    .dataframe tbody tr th {\n",
       "        vertical-align: top;\n",
       "    }\n",
       "\n",
       "    .dataframe thead th {\n",
       "        text-align: right;\n",
       "    }\n",
       "</style>\n",
       "<table border=\"1\" class=\"dataframe\">\n",
       "  <thead>\n",
       "    <tr style=\"text-align: right;\">\n",
       "      <th></th>\n",
       "      <th>article</th>\n",
       "      <th>summary</th>\n",
       "      <th>category</th>\n",
       "      <th>filename</th>\n",
       "    </tr>\n",
       "  </thead>\n",
       "  <tbody>\n",
       "    <tr>\n",
       "      <th>0</th>\n",
       "      <td>Musicians to tackle US red tape\\n\\nMusicians' ...</td>\n",
       "      <td>Nigel McCune from the Musicians' Union said Br...</td>\n",
       "      <td>entertainment</td>\n",
       "      <td>289.txt</td>\n",
       "    </tr>\n",
       "    <tr>\n",
       "      <th>1</th>\n",
       "      <td>U2's desire to be number one\\n\\nU2, who have w...</td>\n",
       "      <td>But they still want more.They have to want to ...</td>\n",
       "      <td>entertainment</td>\n",
       "      <td>262.txt</td>\n",
       "    </tr>\n",
       "    <tr>\n",
       "      <th>2</th>\n",
       "      <td>Rocker Doherty in on-stage fight\\n\\nRock singe...</td>\n",
       "      <td>Babyshambles, which he formed after his acrimo...</td>\n",
       "      <td>entertainment</td>\n",
       "      <td>276.txt</td>\n",
       "    </tr>\n",
       "    <tr>\n",
       "      <th>3</th>\n",
       "      <td>Snicket tops US box office chart\\n\\nThe film a...</td>\n",
       "      <td>A Series of Unfortunate Events also stars Scot...</td>\n",
       "      <td>entertainment</td>\n",
       "      <td>060.txt</td>\n",
       "    </tr>\n",
       "    <tr>\n",
       "      <th>4</th>\n",
       "      <td>Ocean's Twelve raids box office\\n\\nOcean's Twe...</td>\n",
       "      <td>Ocean's Twelve, the crime caper sequel starrin...</td>\n",
       "      <td>entertainment</td>\n",
       "      <td>074.txt</td>\n",
       "    </tr>\n",
       "  </tbody>\n",
       "</table>\n",
       "</div>"
      ],
      "text/plain": [
       "                                             article  \\\n",
       "0  Musicians to tackle US red tape\\n\\nMusicians' ...   \n",
       "1  U2's desire to be number one\\n\\nU2, who have w...   \n",
       "2  Rocker Doherty in on-stage fight\\n\\nRock singe...   \n",
       "3  Snicket tops US box office chart\\n\\nThe film a...   \n",
       "4  Ocean's Twelve raids box office\\n\\nOcean's Twe...   \n",
       "\n",
       "                                             summary       category filename  \n",
       "0  Nigel McCune from the Musicians' Union said Br...  entertainment  289.txt  \n",
       "1  But they still want more.They have to want to ...  entertainment  262.txt  \n",
       "2  Babyshambles, which he formed after his acrimo...  entertainment  276.txt  \n",
       "3  A Series of Unfortunate Events also stars Scot...  entertainment  060.txt  \n",
       "4  Ocean's Twelve, the crime caper sequel starrin...  entertainment  074.txt  "
      ]
     },
     "execution_count": 10,
     "metadata": {},
     "output_type": "execute_result"
    }
   ],
   "source": [
    "data.head()"
   ]
  },
  {
   "cell_type": "code",
   "execution_count": 19,
   "id": "8ed24c4c",
   "metadata": {},
   "outputs": [],
   "source": [
    "# Load in the models\n",
    "\n",
    "from src.text_rank_summarizer import summarize as summarize_extractive\n",
    "from src.transformer_summarization import summarize_abstractive"
   ]
  },
  {
   "cell_type": "markdown",
   "id": "250d57db",
   "metadata": {},
   "source": [
    "# Get the summaries from the datasets and models"
   ]
  },
  {
   "cell_type": "code",
   "execution_count": 13,
   "id": "7e57df73",
   "metadata": {},
   "outputs": [],
   "source": [
    "import time\n",
    "\n",
    "def get_extractive_summary(article):\n",
    "    try:\n",
    "        start_time = time.time()\n",
    "        summary = summarize_extractive(article)\n",
    "        # print(f\"Extractive summary took {time.time() - start_time} seconds\")\n",
    "        return (summary, time.time() - start_time)\n",
    "    except Exception as e:\n",
    "        print(e)\n",
    "        return (None, None)\n"
   ]
  },
  {
   "cell_type": "code",
   "execution_count": 14,
   "id": "b2bdf543",
   "metadata": {},
   "outputs": [
    {
     "name": "stderr",
     "output_type": "stream",
     "text": [
      "Pandas Apply: 100%|██████████| 2224/2224 [03:12<00:00, 11.58it/s]\n"
     ]
    }
   ],
   "source": [
    "data[\"extractive_summary\"], data[\"extractive_time_taken\"] = zip(*data[\"article\"].swifter.apply(get_extractive_summary))\n",
    "\n"
   ]
  },
  {
   "cell_type": "code",
   "execution_count": 16,
   "id": "68272243",
   "metadata": {},
   "outputs": [
    {
     "data": {
      "text/html": [
       "<div>\n",
       "<style scoped>\n",
       "    .dataframe tbody tr th:only-of-type {\n",
       "        vertical-align: middle;\n",
       "    }\n",
       "\n",
       "    .dataframe tbody tr th {\n",
       "        vertical-align: top;\n",
       "    }\n",
       "\n",
       "    .dataframe thead th {\n",
       "        text-align: right;\n",
       "    }\n",
       "</style>\n",
       "<table border=\"1\" class=\"dataframe\">\n",
       "  <thead>\n",
       "    <tr style=\"text-align: right;\">\n",
       "      <th></th>\n",
       "      <th>extractive_summary</th>\n",
       "      <th>extractive_time_taken</th>\n",
       "    </tr>\n",
       "  </thead>\n",
       "  <tbody>\n",
       "    <tr>\n",
       "      <th>0</th>\n",
       "      <td>Musicians to tackle US red tape\\n\\nMusicians' ...</td>\n",
       "      <td>0.180434</td>\n",
       "    </tr>\n",
       "    <tr>\n",
       "      <th>1</th>\n",
       "      <td>The group were born when Mullen put an appeal ...</td>\n",
       "      <td>0.233310</td>\n",
       "    </tr>\n",
       "    <tr>\n",
       "      <th>2</th>\n",
       "      <td>On Tuesday, Doherty and his three bandmates we...</td>\n",
       "      <td>0.091577</td>\n",
       "    </tr>\n",
       "    <tr>\n",
       "      <th>3</th>\n",
       "      <td>Snicket tops US box office chart\\n\\nThe film a...</td>\n",
       "      <td>0.041918</td>\n",
       "    </tr>\n",
       "    <tr>\n",
       "      <th>4</th>\n",
       "      <td>Soderbergh returns to direct the hit sequel wh...</td>\n",
       "      <td>0.066866</td>\n",
       "    </tr>\n",
       "  </tbody>\n",
       "</table>\n",
       "</div>"
      ],
      "text/plain": [
       "                                  extractive_summary  extractive_time_taken\n",
       "0  Musicians to tackle US red tape\\n\\nMusicians' ...               0.180434\n",
       "1  The group were born when Mullen put an appeal ...               0.233310\n",
       "2  On Tuesday, Doherty and his three bandmates we...               0.091577\n",
       "3  Snicket tops US box office chart\\n\\nThe film a...               0.041918\n",
       "4  Soderbergh returns to direct the hit sequel wh...               0.066866"
      ]
     },
     "execution_count": 16,
     "metadata": {},
     "output_type": "execute_result"
    }
   ],
   "source": [
    "data[[\"extractive_summary\", \"extractive_time_taken\"]].head()"
   ]
  },
  {
   "cell_type": "code",
   "execution_count": 17,
   "id": "9c505d43",
   "metadata": {},
   "outputs": [
    {
     "name": "stdout",
     "output_type": "stream",
     "text": [
      "Wrote /Users/frankkelly/Dropbox/Projects-new/sahaj_text_summarisation_clean/output/bbc_news_summaries_2022-06-27_09-11-18.csv\n"
     ]
    }
   ],
   "source": [
    "import datetime\n",
    "\n",
    "if not os.path.exists(PROJECT_PATH / \"output\"):\n",
    "    os.makedirs(PROJECT_PATH / \"output\")\n",
    "\n",
    "def write_to_file(df):\n",
    "    todays_date_and_time_string = str(datetime.datetime.now().strftime(\"%Y-%m-%d_%H-%M-%S\"))\n",
    "    filename = PROJECT_PATH / f\"output/bbc_news_summaries_{todays_date_and_time_string}.csv\"\n",
    "\n",
    "    df.to_csv(filename, index=False)\n",
    "    print(f\"Wrote {filename}\")\n",
    "\n",
    "write_to_file(data)"
   ]
  },
  {
   "cell_type": "code",
   "execution_count": 20,
   "id": "fdf109fb",
   "metadata": {},
   "outputs": [],
   "source": [
    "def get_abstractive_summary(article):\n",
    "    try:\n",
    "        start_time = time.time()\n",
    "        summary = summarize_abstractive(article)\n",
    "        return summary, time.time() - start_time\n",
    "    except Exception as e:\n",
    "        print(e)\n",
    "        return None, None\n"
   ]
  },
  {
   "cell_type": "code",
   "execution_count": 21,
   "id": "2992214f",
   "metadata": {},
   "outputs": [],
   "source": [
    "\n",
    "data[\"abstractive_summary\"], data[\"abstractive_time_taken\"] = zip(*data[\"article\"].swifter.apply(get_abstractive_summary))"
   ]
  },
  {
   "cell_type": "code",
   "execution_count": null,
   "id": "42ad60b1",
   "metadata": {},
   "outputs": [],
   "source": [
    "write_to_file(data)"
   ]
  },
  {
   "cell_type": "code",
   "execution_count": 55,
   "id": "5cadc442",
   "metadata": {},
   "outputs": [
    {
     "data": {
      "text/plain": [
       "count                                                  2224\n",
       "unique                                                 2126\n",
       "top       Rings of steel combat net attacks\\n\\nGambling ...\n",
       "freq                                                      2\n",
       "Name: article, dtype: object"
      ]
     },
     "execution_count": 55,
     "metadata": {},
     "output_type": "execute_result"
    }
   ],
   "source": [
    "data.article.describe()"
   ]
  },
  {
   "cell_type": "code",
   "execution_count": 56,
   "id": "78f9b88c",
   "metadata": {},
   "outputs": [
    {
     "data": {
      "text/html": [
       "<div>\n",
       "<style scoped>\n",
       "    .dataframe tbody tr th:only-of-type {\n",
       "        vertical-align: middle;\n",
       "    }\n",
       "\n",
       "    .dataframe tbody tr th {\n",
       "        vertical-align: top;\n",
       "    }\n",
       "\n",
       "    .dataframe thead th {\n",
       "        text-align: right;\n",
       "    }\n",
       "</style>\n",
       "<table border=\"1\" class=\"dataframe\">\n",
       "  <thead>\n",
       "    <tr style=\"text-align: right;\">\n",
       "      <th></th>\n",
       "      <th>article</th>\n",
       "      <th>summary</th>\n",
       "    </tr>\n",
       "  </thead>\n",
       "  <tbody>\n",
       "    <tr>\n",
       "      <th>count</th>\n",
       "      <td>2224</td>\n",
       "      <td>2224</td>\n",
       "    </tr>\n",
       "    <tr>\n",
       "      <th>unique</th>\n",
       "      <td>2126</td>\n",
       "      <td>2080</td>\n",
       "    </tr>\n",
       "    <tr>\n",
       "      <th>top</th>\n",
       "      <td>Rings of steel combat net attacks\\n\\nGambling ...</td>\n",
       "      <td>Christian Harris, partnership manager of mobil...</td>\n",
       "    </tr>\n",
       "    <tr>\n",
       "      <th>freq</th>\n",
       "      <td>2</td>\n",
       "      <td>2</td>\n",
       "    </tr>\n",
       "  </tbody>\n",
       "</table>\n",
       "</div>"
      ],
      "text/plain": [
       "                                                  article  \\\n",
       "count                                                2224   \n",
       "unique                                               2126   \n",
       "top     Rings of steel combat net attacks\\n\\nGambling ...   \n",
       "freq                                                    2   \n",
       "\n",
       "                                                  summary  \n",
       "count                                                2224  \n",
       "unique                                               2080  \n",
       "top     Christian Harris, partnership manager of mobil...  \n",
       "freq                                                    2  "
      ]
     },
     "execution_count": 56,
     "metadata": {},
     "output_type": "execute_result"
    }
   ],
   "source": [
    "data[[\"article\", \"summary\"]].describe()"
   ]
  },
  {
   "cell_type": "code",
   "execution_count": 57,
   "id": "f1701884",
   "metadata": {},
   "outputs": [
    {
     "data": {
      "text/plain": [
       "article    0\n",
       "summary    0\n",
       "dtype: int64"
      ]
     },
     "execution_count": 57,
     "metadata": {},
     "output_type": "execute_result"
    }
   ],
   "source": [
    "data[[\"article\", \"summary\"]].isna().sum()"
   ]
  },
  {
   "cell_type": "code",
   "execution_count": 53,
   "id": "add3cae7",
   "metadata": {},
   "outputs": [
    {
     "data": {
      "text/plain": [
       "0    \n",
       "1    \n",
       "2    \n",
       "3    \n",
       "4    \n",
       "Name: abstractive_summary, dtype: object"
      ]
     },
     "execution_count": 53,
     "metadata": {},
     "output_type": "execute_result"
    }
   ],
   "source": [
    "data[\"abstractive_summary\"].head()"
   ]
  },
  {
   "cell_type": "code",
   "execution_count": null,
   "id": "a2d666f0",
   "metadata": {},
   "outputs": [],
   "source": [
    "data[\"extractive_rouge\"] = data.apply(lambda row: rouge.get_scores(row.extractive_summary, row.summary)[0]['rouge-l']['f'], axis=1)"
   ]
  },
  {
   "cell_type": "code",
   "execution_count": null,
   "id": "df39dac6",
   "metadata": {},
   "outputs": [],
   "source": [
    "data[\"abstractive_rouge\"] = data.apply(lambda row: rouge.get_scores(row.abstractive_summary, row.summary)[0]['rouge-l']['f'], axis=1)"
   ]
  },
  {
   "cell_type": "code",
   "execution_count": null,
   "id": "1e0a2794",
   "metadata": {},
   "outputs": [],
   "source": [
    "if not os.path.exists(PROJECT_PATH / \"output\"):\n",
    "    os.makedirs(PROJECT_PATH / \"output\")\n",
    "\n",
    "data.to_csv(PROJECT_PATH / \"output/bbc_news_summaries.csv\", index=False)"
   ]
  },
  {
   "cell_type": "code",
   "execution_count": null,
   "id": "8d42118f",
   "metadata": {},
   "outputs": [],
   "source": []
  }
 ],
 "metadata": {
  "kernelspec": {
   "display_name": "Python 3.9.13 ('abstractive-text-summarization-IMBEzmp5-py3.9')",
   "language": "python",
   "name": "python3"
  },
  "language_info": {
   "codemirror_mode": {
    "name": "ipython",
    "version": 3
   },
   "file_extension": ".py",
   "mimetype": "text/x-python",
   "name": "python",
   "nbconvert_exporter": "python",
   "pygments_lexer": "ipython3",
   "version": "3.9.9"
  },
  "vscode": {
   "interpreter": {
    "hash": "3c46602d8127eb01f075c0759a3f0ee489025b2e1d301a9a966f80add6ca344f"
   }
  }
 },
 "nbformat": 4,
 "nbformat_minor": 5
}
